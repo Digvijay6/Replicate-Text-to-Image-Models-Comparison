{
 "cells": [
  {
   "cell_type": "markdown",
   "id": "2bb0a837-228b-4cb9-9bd6-0f2b18186c52",
   "metadata": {},
   "source": [
    "# Comparison of Text to Image Models on Replicate"
   ]
  },
  {
   "cell_type": "code",
   "execution_count": 1,
   "id": "ab106648-3e9b-45d8-b088-a1bc3d66457f",
   "metadata": {},
   "outputs": [
    {
     "name": "stdout",
     "output_type": "stream",
     "text": [
      "Requirement already satisfied: replicate in c:\\users\\digvi\\anaconda3\\lib\\site-packages (0.33.0)\n",
      "Requirement already satisfied: httpx<1,>=0.21.0 in c:\\users\\digvi\\anaconda3\\lib\\site-packages (from replicate) (0.27.2)\n",
      "Requirement already satisfied: packaging in c:\\users\\digvi\\anaconda3\\lib\\site-packages (from replicate) (23.2)\n",
      "Requirement already satisfied: pydantic>1.10.7 in c:\\users\\digvi\\anaconda3\\lib\\site-packages (from replicate) (1.10.12)\n",
      "Requirement already satisfied: typing-extensions>=4.5.0 in c:\\users\\digvi\\anaconda3\\lib\\site-packages (from replicate) (4.12.2)\n",
      "Requirement already satisfied: anyio in c:\\users\\digvi\\anaconda3\\lib\\site-packages (from httpx<1,>=0.21.0->replicate) (4.2.0)\n",
      "Requirement already satisfied: certifi in c:\\users\\digvi\\anaconda3\\lib\\site-packages (from httpx<1,>=0.21.0->replicate) (2024.8.30)\n",
      "Requirement already satisfied: httpcore==1.* in c:\\users\\digvi\\anaconda3\\lib\\site-packages (from httpx<1,>=0.21.0->replicate) (1.0.5)\n",
      "Requirement already satisfied: idna in c:\\users\\digvi\\anaconda3\\lib\\site-packages (from httpx<1,>=0.21.0->replicate) (3.4)\n",
      "Requirement already satisfied: sniffio in c:\\users\\digvi\\anaconda3\\lib\\site-packages (from httpx<1,>=0.21.0->replicate) (1.3.0)\n",
      "Requirement already satisfied: h11<0.15,>=0.13 in c:\\users\\digvi\\anaconda3\\lib\\site-packages (from httpcore==1.*->httpx<1,>=0.21.0->replicate) (0.14.0)\n",
      "Note: you may need to restart the kernel to use updated packages.\n"
     ]
    }
   ],
   "source": [
    "pip install replicate\n"
   ]
  },
  {
   "cell_type": "code",
   "execution_count": 1,
   "id": "45e65f30-28b5-4592-b2b3-8d3e57cfdbd5",
   "metadata": {},
   "outputs": [
    {
     "name": "stdin",
     "output_type": "stream",
     "text": [
      " ········\n"
     ]
    }
   ],
   "source": [
    "import os\n",
    "import getpass\n",
    "\n",
    "os.environ[\"REPLICATE_API_TOKEN\"] = getpass.getpass()"
   ]
  },
  {
   "cell_type": "code",
   "execution_count": 2,
   "id": "1f4a4d1c-cdbf-448c-9cfd-a3f0f77d9e00",
   "metadata": {},
   "outputs": [],
   "source": [
    "import replicate"
   ]
  },
  {
   "cell_type": "code",
   "execution_count": 3,
   "id": "e1c729db-b0cb-48dc-beb3-242439efc2fe",
   "metadata": {},
   "outputs": [],
   "source": [
    "prompt_1 = \"\"\"\n",
    "In the dusty plains of a military camp during the 1980s, a Black woman in her late 20s, wearing olive green fatigues, \n",
    "stands focused as she fires a large machine gun at distant targets. It's mid-afternoon, with the sun blazing overhead, \n",
    "casting long shadows across the desert landscape. Around her, the camp is bustling with the hum of machinery, \n",
    "the roar of vehicles, and the occasional crack of gunfire echoing in the distance. The smell of hot sand and gunpowder \n",
    "fills the air as she adjusts her stance, the smoke from the barrel rising into the dry heat. Sparse tents are set up behind her, \n",
    "and fellow soldiers practice their drills, the scene set against a backdrop of rugged mountains.\n",
    "\"\"\"\n",
    "\n",
    "prompt_2 = \"\"\"\n",
    "In the year 2055, a young Asian boy, no older than 10, stands on a smooth, holographic-lit platform in a futuristic city park, \n",
    "surrounded by towering skyscrapers that glisten with digital billboards. The park is filled with lush, synthetic greenery \n",
    "and transparent walkways that float just above the ground. It’s a late summer evening, the sky a deep purple with a setting sun \n",
    "that casts vibrant hues across the skyline. The boy, dressed in a sleek silver jumpsuit, operates a small, fast-moving drone, \n",
    "maneuvering it skillfully through neon-lit trees and across a shimmering pond where robotic fish swim beneath the surface. \n",
    "The soft hum of flying vehicles overhead mixes with the gentle chatter of park visitors, creating an atmosphere that feels \n",
    "both serene and cutting-edge.\n",
    "\"\"\"\n",
    "\n",
    "prompt_3 = \"\"\"\n",
    "On a dusty, rural American farm in the 1930s, a Hispanic man in his 40s, wearing worn-out overalls and a wide-brimmed hat, \n",
    "kneels beside a rusted, old tractor. It’s early morning, the sun just starting to rise over the endless fields of wheat, \n",
    "casting a golden glow across the farmland. In the distance, a red barn stands tall, and a windmill creaks slowly as it turns \n",
    "in the light breeze. Chickens peck at the ground nearby, and the distant moo of cows punctuates the quiet, peaceful scene. \n",
    "The man wipes sweat from his brow as he tightens a bolt on the tractor’s engine, his hands blackened with oil and grime. \n",
    "The air is thick with the scent of earth and hay, a reminder of the hard labor that defines life on the farm.\n",
    "\"\"\"\n",
    "\n",
    "prompt_4 = \"\"\"\n",
    "It is a calm summer afternoon in the English countryside during the 1880s, where a well-dressed Caucasian family—a father, \n",
    "mother, and their young daughter—sits on a checkered blanket, enjoying a peaceful picnic by a serene lake. The father, \n",
    "dressed in a formal vest and bowler hat, pours tea from a porcelain pot, while the mother, in her elegant lace dress, \n",
    "offers sandwiches to their daughter, a girl of about six, who wears a frilly bonnet. The lake is still, reflecting the pale blue sky \n",
    "dotted with soft clouds, and the gentle rustle of trees accompanies the distant sound of a steam train chugging through the valley. \n",
    "Nearby, a horse-drawn carriage waits patiently, and the air smells of freshly cut grass mixed with the faint scent of wildflowers \n",
    "blooming along the water’s edge. The family laughs softly, their voices blending with the peaceful sounds of nature.\n",
    "\"\"\"\n",
    "\n",
    "prompt_5 = \"\"\"\n",
    "In the 1920s, an elderly Indian man in his 70s, dressed in a simple white dhoti, swims leisurely in the grand marble pool \n",
    "of a Maharaja’s palace. The palace is a stunning blend of Mughal and British architecture, with intricately carved columns \n",
    "and vibrant mosaics adorning the walls. The midday sun streams through tall arched windows, casting patterns of light \n",
    "onto the clear, cool water. Outside, the lush gardens are filled with exotic flowers, and peacocks roam freely. The man moves \n",
    "slowly through the water, his strokes creating ripples that disturb the serene surface, as a soft breeze carries the fragrance \n",
    "of jasmine into the room. Servants dressed in traditional attire stand quietly at the edges of the pool, ready to attend to \n",
    "their master. In the background, the faint sound of classical Indian music can be heard, blending with the peaceful sounds \n",
    "of birds chirping in the garden.\n",
    "\"\"\"\n"
   ]
  },
  {
   "cell_type": "markdown",
   "id": "5294568a-4a0f-4a5d-abf6-aa2452fe35fb",
   "metadata": {},
   "source": [
    "# bytedance/sdxl-lightning-4step\n",
    "\n",
    "https://replicate.com/bytedance/sdxl-lightning-4step\n",
    "\n",
    "This model costs approximately  0.0014  to run on Replicate, or  714  runs per  $\n",
    "\n",
    "face deatiling is not good"
   ]
  },
  {
   "cell_type": "code",
   "execution_count": 4,
   "id": "ee4f67ff-7511-44e5-8bbd-63d35a734abd",
   "metadata": {},
   "outputs": [
    {
     "name": "stdout",
     "output_type": "stream",
     "text": [
      "['https://replicate.delivery/yhqm/ax45ytVuIQYXClH0H7NwCSeHCSGpScxKAAvlC18DfR3SzorTA/out-0.png']\n"
     ]
    }
   ],
   "source": [
    "output = replicate.run(\n",
    "    \"bytedance/sdxl-lightning-4step:5599ed30703defd1d160a25a63321b4dec97101d98b4674bcc56e41f62f35637\",\n",
    "    input={\n",
    "        \"width\": 1024,\n",
    "        \"height\": 1024,\n",
    "        \"prompt\": prompt_1,\n",
    "        \"scheduler\": \"K_EULER\",\n",
    "        \"num_outputs\": 1,\n",
    "        \"guidance_scale\": 0,\n",
    "        \"negative_prompt\": \"worst quality, low quality\",\n",
    "        \"num_inference_steps\": 4\n",
    "    }\n",
    ")\n",
    "print(output)"
   ]
  },
  {
   "cell_type": "code",
   "execution_count": 5,
   "id": "e17b8951-6e7c-4174-a4c1-33b48ad560de",
   "metadata": {},
   "outputs": [
    {
     "name": "stdout",
     "output_type": "stream",
     "text": [
      "['https://replicate.delivery/yhqm/icygK77cBBYMGx0m8VCS6p1lsc7LejgP79JhjlwbpUpAa01JA/out-0.png']\n"
     ]
    }
   ],
   "source": [
    "output = replicate.run(\n",
    "    \"bytedance/sdxl-lightning-4step:5599ed30703defd1d160a25a63321b4dec97101d98b4674bcc56e41f62f35637\",\n",
    "    input={\n",
    "        \"width\": 1024,\n",
    "        \"height\": 1024,\n",
    "        \"prompt\": prompt_2,\n",
    "        \"scheduler\": \"K_EULER\",\n",
    "        \"num_outputs\": 1,\n",
    "        \"guidance_scale\": 0,\n",
    "        \"negative_prompt\": \"worst quality, low quality\",\n",
    "        \"num_inference_steps\": 4\n",
    "    }\n",
    ")\n",
    "print(output)"
   ]
  },
  {
   "cell_type": "code",
   "execution_count": 12,
   "id": "1ca11c39-eecb-48ad-b548-34f87984b90a",
   "metadata": {},
   "outputs": [
    {
     "name": "stdout",
     "output_type": "stream",
     "text": [
      "['https://replicate.delivery/yhqm/Ol1MKMecPftTAk4Hrsc9KYUhs2VU3eO6AWiheTk0eozztLAdC/out-0.png']\n"
     ]
    }
   ],
   "source": [
    "output = replicate.run(\n",
    "    \"bytedance/sdxl-lightning-4step:5599ed30703defd1d160a25a63321b4dec97101d98b4674bcc56e41f62f35637\",\n",
    "    input={\n",
    "        \"width\": 1024,\n",
    "        \"height\": 1024,\n",
    "        \"prompt\": prompt_3,\n",
    "        \"scheduler\": \"K_EULER\",\n",
    "        \"num_outputs\": 1,\n",
    "        \"guidance_scale\": 0,\n",
    "        \"negative_prompt\": \"worst quality, low quality\",\n",
    "        \"num_inference_steps\": 4\n",
    "    }\n",
    ")\n",
    "print(output)"
   ]
  },
  {
   "cell_type": "code",
   "execution_count": 13,
   "id": "73b09f6c-b6c3-4344-ba1e-fdbed57ca040",
   "metadata": {},
   "outputs": [
    {
     "name": "stdout",
     "output_type": "stream",
     "text": [
      "['https://replicate.delivery/yhqm/6FGeicfueALHXIfz977Bkb6vTT8SUWWqqJFNCiH95NdH3FgOB/out-0.png']\n"
     ]
    }
   ],
   "source": [
    "output = replicate.run(\n",
    "    \"bytedance/sdxl-lightning-4step:5599ed30703defd1d160a25a63321b4dec97101d98b4674bcc56e41f62f35637\",\n",
    "    input={\n",
    "        \"width\": 1024,\n",
    "        \"height\": 1024,\n",
    "        \"prompt\": prompt_4,\n",
    "        \"scheduler\": \"K_EULER\",\n",
    "        \"num_outputs\": 1,\n",
    "        \"guidance_scale\": 0,\n",
    "        \"negative_prompt\": \"worst quality, low quality\",\n",
    "        \"num_inference_steps\": 4\n",
    "    }\n",
    ")\n",
    "print(output)"
   ]
  },
  {
   "cell_type": "code",
   "execution_count": 14,
   "id": "4cb64be9-8ccc-441f-b34c-94f38bea1b07",
   "metadata": {},
   "outputs": [
    {
     "name": "stdout",
     "output_type": "stream",
     "text": [
      "['https://replicate.delivery/yhqm/mR8fmOwjhUTNWqWgioXgv9Gm3KHm2nDn2rQ5zb69olF6uA0JA/out-0.png']\n"
     ]
    }
   ],
   "source": [
    "output = replicate.run(\n",
    "    \"bytedance/sdxl-lightning-4step:5599ed30703defd1d160a25a63321b4dec97101d98b4674bcc56e41f62f35637\",\n",
    "    input={\n",
    "        \"width\": 1024,\n",
    "        \"height\": 1024,\n",
    "        \"prompt\": prompt_5,\n",
    "        \"scheduler\": \"K_EULER\",\n",
    "        \"num_outputs\": 1,\n",
    "        \"guidance_scale\": 0,\n",
    "        \"negative_prompt\": \"worst quality, low quality\",\n",
    "        \"num_inference_steps\": 4\n",
    "    }\n",
    ")\n",
    "print(output)"
   ]
  },
  {
   "cell_type": "markdown",
   "id": "e4d5ce85-dbc7-414a-b07b-309b86ce443d",
   "metadata": {},
   "source": [
    "# black-forest-labs/flux-schnell\n",
    "\n",
    "https://replicate.com/black-forest-labs/flux-schnell\n",
    "\n",
    "$0.003 / imag or\r\n",
    "333 images /\n",
    "\n",
    "impressive output $1"
   ]
  },
  {
   "cell_type": "code",
   "execution_count": 61,
   "id": "3094fb34-1738-4ea7-b2fc-ddfb946d4004",
   "metadata": {},
   "outputs": [
    {
     "name": "stdout",
     "output_type": "stream",
     "text": [
      "['https://replicate.delivery/yhqm/fM6nzeACMdv7oU5bAUZi1EhCbKM5vZgEO5PLUeMblH8XXHQnA/out-0.webp']\n"
     ]
    }
   ],
   "source": [
    "output = replicate.run(\n",
    "    \"black-forest-labs/flux-schnell\",\n",
    "    input={\n",
    "        \"prompt\": prompt_1,\n",
    "        \"go_fast\": True,\n",
    "        \"megapixels\": \"1\",\n",
    "        \"num_outputs\": 1,\n",
    "        \"aspect_ratio\": \"1:1\",\n",
    "        \"output_format\": \"webp\",\n",
    "        \"output_quality\": 80,\n",
    "        \"num_inference_steps\": 4\n",
    "    }\n",
    ")\n",
    "print(output)"
   ]
  },
  {
   "cell_type": "code",
   "execution_count": 16,
   "id": "15be8d03-6ce5-4472-932e-6821796e7f45",
   "metadata": {},
   "outputs": [
    {
     "name": "stdout",
     "output_type": "stream",
     "text": [
      "['https://replicate.delivery/yhqm/TTsmBYHm4PbpL9HRKeKhyJNSjQQd4ZMU6d7sIS2GahyP6A0JA/out-0.webp']\n"
     ]
    }
   ],
   "source": [
    "output = replicate.run(\n",
    "    \"black-forest-labs/flux-schnell\",\n",
    "    input={\n",
    "        \"prompt\": prompt_2,\n",
    "        \"go_fast\": True,\n",
    "        \"megapixels\": \"1\",\n",
    "        \"num_outputs\": 1,\n",
    "        \"aspect_ratio\": \"1:1\",\n",
    "        \"output_format\": \"webp\",\n",
    "        \"output_quality\": 80,\n",
    "        \"num_inference_steps\": 4\n",
    "    }\n",
    ")\n",
    "print(output)"
   ]
  },
  {
   "cell_type": "code",
   "execution_count": 19,
   "id": "69248ae2-fbdd-4674-8b4e-55c2cbdb4932",
   "metadata": {},
   "outputs": [
    {
     "name": "stdout",
     "output_type": "stream",
     "text": [
      "['https://replicate.delivery/yhqm/e957L6Coba28UabPx7wqZikfPN57XZrvdrBihkxxu78y0BoTA/out-0.webp']\n"
     ]
    }
   ],
   "source": [
    "output = replicate.run(\n",
    "    \"black-forest-labs/flux-schnell\",\n",
    "    input={\n",
    "        \"prompt\": prompt_3,\n",
    "        \"go_fast\": True,\n",
    "        \"megapixels\": \"1\",\n",
    "        \"num_outputs\": 1,\n",
    "        \"aspect_ratio\": \"1:1\",\n",
    "        \"output_format\": \"webp\",\n",
    "        \"output_quality\": 80,\n",
    "        \"num_inference_steps\": 4\n",
    "    }\n",
    ")\n",
    "print(output)"
   ]
  },
  {
   "cell_type": "code",
   "execution_count": 17,
   "id": "7e09abe7-b236-4eaa-b66f-b055febde59f",
   "metadata": {},
   "outputs": [
    {
     "name": "stdout",
     "output_type": "stream",
     "text": [
      "['https://replicate.delivery/yhqm/BvAZf012g41kMqocDxI3pWQ50nMffS0uNE0yq2fFTXoGSHgOB/out-0.webp']\n"
     ]
    }
   ],
   "source": [
    "output = replicate.run(\n",
    "    \"black-forest-labs/flux-schnell\",\n",
    "    input={\n",
    "        \"prompt\": prompt_4,\n",
    "        \"go_fast\": True,\n",
    "        \"megapixels\": \"1\",\n",
    "        \"num_outputs\": 1,\n",
    "        \"aspect_ratio\": \"1:1\",\n",
    "        \"output_format\": \"webp\",\n",
    "        \"output_quality\": 80,\n",
    "        \"num_inference_steps\": 4\n",
    "    }\n",
    ")\n",
    "print(output)"
   ]
  },
  {
   "cell_type": "code",
   "execution_count": 18,
   "id": "0576e420-cc21-47ef-9090-0b7c618487bc",
   "metadata": {},
   "outputs": [
    {
     "name": "stdout",
     "output_type": "stream",
     "text": [
      "['https://replicate.delivery/yhqm/95fvpGkKN0XCMazkefxzn6nZaA6BxOzr7cvUfB53qCFbSHgOB/out-0.webp']\n"
     ]
    }
   ],
   "source": [
    "output = replicate.run(\n",
    "    \"black-forest-labs/flux-schnell\",\n",
    "    input={\n",
    "        \"prompt\": prompt_5,\n",
    "        \"go_fast\": True,\n",
    "        \"megapixels\": \"1\",\n",
    "        \"num_outputs\": 1,\n",
    "        \"aspect_ratio\": \"1:1\",\n",
    "        \"output_format\": \"webp\",\n",
    "        \"output_quality\": 80,\n",
    "        \"num_inference_steps\": 4\n",
    "    }\n",
    ")\n",
    "print(output)"
   ]
  },
  {
   "cell_type": "markdown",
   "id": "e035a7c3-32f5-4942-b0ca-738a15679a7a",
   "metadata": {},
   "source": [
    "# ai-forever/kandinsky-2.2\n",
    "\n",
    "https://replicate.com/ai-forever/kandinsky-2.2\n",
    "\n",
    "0.077 to run on Replicate, or 12 runs per $1\n",
    "\n",
    "somewhat cartoonish, not so fast either"
   ]
  },
  {
   "cell_type": "code",
   "execution_count": 20,
   "id": "c103f2ab-29b9-4b55-81e0-453c17e57d39",
   "metadata": {},
   "outputs": [
    {
     "name": "stdout",
     "output_type": "stream",
     "text": [
      "['https://replicate.delivery/yhqm/Yf7lAH9BwnRXO6K4rTon6fMBX9GIdgyQbrQnhen1DICOzDQnA/out-0.webp']\n"
     ]
    }
   ],
   "source": [
    "output = replicate.run(\n",
    "    \"ai-forever/kandinsky-2.2:ad9d7879fbffa2874e1d909d1d37d9bc682889cc65b31f7bb00d2362619f194a\",\n",
    "    input={\n",
    "        \"width\": 1024,\n",
    "        \"height\": 1024,\n",
    "        \"prompt\": prompt_1,\n",
    "        \"num_outputs\": 1,\n",
    "        \"output_format\": \"webp\",\n",
    "        \"num_inference_steps\": 75,\n",
    "        \"num_inference_steps_prior\": 25\n",
    "    }\n",
    ")\n",
    "print(output)"
   ]
  },
  {
   "cell_type": "code",
   "execution_count": 21,
   "id": "3c137795-141f-4670-8f84-965e54b36e17",
   "metadata": {},
   "outputs": [
    {
     "name": "stdout",
     "output_type": "stream",
     "text": [
      "['https://replicate.delivery/yhqm/4cRc4r1z03JGExtRfHiasugCeToxt6mHvKl6lfnD1xjgzDQnA/out-0.webp']\n"
     ]
    }
   ],
   "source": [
    "output = replicate.run(\n",
    "    \"ai-forever/kandinsky-2.2:ad9d7879fbffa2874e1d909d1d37d9bc682889cc65b31f7bb00d2362619f194a\",\n",
    "    input={\n",
    "        \"width\": 1024,\n",
    "        \"height\": 1024,\n",
    "        \"prompt\": prompt_2,\n",
    "        \"num_outputs\": 1,\n",
    "        \"output_format\": \"webp\",\n",
    "        \"num_inference_steps\": 75,\n",
    "        \"num_inference_steps_prior\": 25\n",
    "    }\n",
    ")\n",
    "print(output)"
   ]
  },
  {
   "cell_type": "code",
   "execution_count": 22,
   "id": "aa02193a-712f-43bd-b59f-65dd156bd2a7",
   "metadata": {},
   "outputs": [
    {
     "name": "stdout",
     "output_type": "stream",
     "text": [
      "['https://replicate.delivery/yhqm/BKgPIeOYsayae0t0WDu6rG71dlAcBFbn6nyRmKM3LGy45BoTA/out-0.webp']\n"
     ]
    }
   ],
   "source": [
    "output = replicate.run(\n",
    "    \"ai-forever/kandinsky-2.2:ad9d7879fbffa2874e1d909d1d37d9bc682889cc65b31f7bb00d2362619f194a\",\n",
    "    input={\n",
    "        \"width\": 1024,\n",
    "        \"height\": 1024,\n",
    "        \"prompt\": prompt_3,\n",
    "        \"num_outputs\": 1,\n",
    "        \"output_format\": \"webp\",\n",
    "        \"num_inference_steps\": 75,\n",
    "        \"num_inference_steps_prior\": 25\n",
    "    }\n",
    ")\n",
    "print(output)"
   ]
  },
  {
   "cell_type": "code",
   "execution_count": 23,
   "id": "3a35bfb8-04f0-4fba-b2ee-fc98bf639947",
   "metadata": {},
   "outputs": [
    {
     "name": "stdout",
     "output_type": "stream",
     "text": [
      "['https://replicate.delivery/yhqm/BZFG2blfGRwnE61WlZar1I2uZ0fLVphcCvENRDZDt4cB6BoTA/out-0.webp']\n"
     ]
    }
   ],
   "source": [
    "output = replicate.run(\n",
    "    \"ai-forever/kandinsky-2.2:ad9d7879fbffa2874e1d909d1d37d9bc682889cc65b31f7bb00d2362619f194a\",\n",
    "    input={\n",
    "        \"width\": 1024,\n",
    "        \"height\": 1024,\n",
    "        \"prompt\": prompt_4,\n",
    "        \"num_outputs\": 1,\n",
    "        \"output_format\": \"webp\",\n",
    "        \"num_inference_steps\": 75,\n",
    "        \"num_inference_steps_prior\": 25\n",
    "    }\n",
    ")\n",
    "print(output)"
   ]
  },
  {
   "cell_type": "code",
   "execution_count": 24,
   "id": "18ac5628-b87f-497f-b8c3-9274b0e5c9e5",
   "metadata": {},
   "outputs": [
    {
     "name": "stdout",
     "output_type": "stream",
     "text": [
      "['https://replicate.delivery/yhqm/06mQOemawrQVOieprgNmtqGS4T0vAWQuPi00FimfCWKS0DQnA/out-0.webp']\n"
     ]
    }
   ],
   "source": [
    "output = replicate.run(\n",
    "    \"ai-forever/kandinsky-2.2:ad9d7879fbffa2874e1d909d1d37d9bc682889cc65b31f7bb00d2362619f194a\",\n",
    "    input={\n",
    "        \"width\": 1024,\n",
    "        \"height\": 1024,\n",
    "        \"prompt\": prompt_5,\n",
    "        \"num_outputs\": 1,\n",
    "        \"output_format\": \"webp\",\n",
    "        \"num_inference_steps\": 75,\n",
    "        \"num_inference_steps_prior\": 25\n",
    "    }\n",
    ")\n",
    "print(output)"
   ]
  },
  {
   "cell_type": "markdown",
   "id": "9178cc45-7d13-4a28-85c0-7d35789bdb18",
   "metadata": {},
   "source": [
    "# lucataco/dreamshaper-xl-turbo\n",
    "\n",
    "https://replicate.com/lucataco/dreamshaper-xl-turbo\n",
    "\n",
    "0.0061 to run on Replicate, or 163 runs per $1\n",
    "\n",
    "model is cold, taking a lot of time to generate, deformed faces"
   ]
  },
  {
   "cell_type": "code",
   "execution_count": 25,
   "id": "ba875197-7144-4e9e-b680-0e64f9c35521",
   "metadata": {},
   "outputs": [
    {
     "name": "stdout",
     "output_type": "stream",
     "text": [
      "['https://replicate.delivery/pbxt/K8KARkhDTvqVPFk3tbN0tzWTGPuaFA1OYpamzcLOOxCKlA6E/out-0.png']\n"
     ]
    }
   ],
   "source": [
    "output = replicate.run(\n",
    "    \"lucataco/dreamshaper-xl-turbo:0a1710e0187b01a255302738ca0158ff02a22f4638679533e111082f9dd1b615\",\n",
    "    input={\n",
    "        \"width\": 1024,\n",
    "        \"height\": 1024,\n",
    "        \"prompt\": prompt_1,\n",
    "        \"scheduler\": \"K_EULER\",\n",
    "        \"num_outputs\": 1,\n",
    "        \"guidance_scale\": 2,\n",
    "        \"apply_watermark\": True,\n",
    "        \"negative_prompt\": \"ugly, deformed, noisy, blurry, low contrast, text, BadDream, 3d, cgi, render, fake, anime, open mouth, big forehead, long neck\",\n",
    "        \"num_inference_steps\": 7\n",
    "    }\n",
    ")\n",
    "print(output)"
   ]
  },
  {
   "cell_type": "code",
   "execution_count": 26,
   "id": "c4013732-8352-4d30-9bd3-f8f5e3d924d8",
   "metadata": {},
   "outputs": [
    {
     "name": "stdout",
     "output_type": "stream",
     "text": [
      "['https://replicate.delivery/pbxt/xejwjm7LLejKWUfoj5TTkfpMFHfTJVxfCJ3994kLsftNWKB0JA/out-0.png']\n"
     ]
    }
   ],
   "source": [
    "output = replicate.run(\n",
    "    \"lucataco/dreamshaper-xl-turbo:0a1710e0187b01a255302738ca0158ff02a22f4638679533e111082f9dd1b615\",\n",
    "    input={\n",
    "        \"width\": 1024,\n",
    "        \"height\": 1024,\n",
    "        \"prompt\": prompt_2,\n",
    "        \"scheduler\": \"K_EULER\",\n",
    "        \"num_outputs\": 1,\n",
    "        \"guidance_scale\": 2,\n",
    "        \"apply_watermark\": True,\n",
    "        \"negative_prompt\": \"ugly, deformed, noisy, blurry, low contrast, text, BadDream, 3d, cgi, render, fake, anime, open mouth, big forehead, long neck\",\n",
    "        \"num_inference_steps\": 7\n",
    "    }\n",
    ")\n",
    "print(output)"
   ]
  },
  {
   "cell_type": "code",
   "execution_count": 27,
   "id": "60b0e249-da7f-4f6e-a041-405b713515f6",
   "metadata": {},
   "outputs": [
    {
     "name": "stdout",
     "output_type": "stream",
     "text": [
      "['https://replicate.delivery/pbxt/X1Gy0UpJ8ELuJ54sdnJfQGDoE20V6xu1N7UORSpo9RdYKB0JA/out-0.png']\n"
     ]
    }
   ],
   "source": [
    "output = replicate.run(\n",
    "    \"lucataco/dreamshaper-xl-turbo:0a1710e0187b01a255302738ca0158ff02a22f4638679533e111082f9dd1b615\",\n",
    "    input={\n",
    "        \"width\": 1024,\n",
    "        \"height\": 1024,\n",
    "        \"prompt\": prompt_3,\n",
    "        \"scheduler\": \"K_EULER\",\n",
    "        \"num_outputs\": 1,\n",
    "        \"guidance_scale\": 2,\n",
    "        \"apply_watermark\": True,\n",
    "        \"negative_prompt\": \"ugly, deformed, noisy, blurry, low contrast, text, BadDream, 3d, cgi, render, fake, anime, open mouth, big forehead, long neck\",\n",
    "        \"num_inference_steps\": 7\n",
    "    }\n",
    ")\n",
    "print(output)"
   ]
  },
  {
   "cell_type": "code",
   "execution_count": 28,
   "id": "f2a75b88-e870-452e-adc4-f079f7c20771",
   "metadata": {},
   "outputs": [
    {
     "name": "stdout",
     "output_type": "stream",
     "text": [
      "['https://replicate.delivery/pbxt/yCmYcrQAed3HAat9fkHDi3zkal7QxQWrX7QscptgaJ70UCoTA/out-0.png']\n"
     ]
    }
   ],
   "source": [
    "output = replicate.run(\n",
    "    \"lucataco/dreamshaper-xl-turbo:0a1710e0187b01a255302738ca0158ff02a22f4638679533e111082f9dd1b615\",\n",
    "    input={\n",
    "        \"width\": 1024,\n",
    "        \"height\": 1024,\n",
    "        \"prompt\": prompt_4,\n",
    "        \"scheduler\": \"K_EULER\",\n",
    "        \"num_outputs\": 1,\n",
    "        \"guidance_scale\": 2,\n",
    "        \"apply_watermark\": True,\n",
    "        \"negative_prompt\": \"ugly, deformed, noisy, blurry, low contrast, text, BadDream, 3d, cgi, render, fake, anime, open mouth, big forehead, long neck\",\n",
    "        \"num_inference_steps\": 7\n",
    "    }\n",
    ")\n",
    "print(output)"
   ]
  },
  {
   "cell_type": "code",
   "execution_count": 29,
   "id": "163f92a3-eb18-45ac-8dc4-3cc56c7aa629",
   "metadata": {},
   "outputs": [
    {
     "name": "stdout",
     "output_type": "stream",
     "text": [
      "['https://replicate.delivery/pbxt/ThsRrGtg7ho2KhtylCE4oQusc7ieUC9E84v5PhfFAs34UCoTA/out-0.png']\n"
     ]
    }
   ],
   "source": [
    "output = replicate.run(\n",
    "    \"lucataco/dreamshaper-xl-turbo:0a1710e0187b01a255302738ca0158ff02a22f4638679533e111082f9dd1b615\",\n",
    "    input={\n",
    "        \"width\": 1024,\n",
    "        \"height\": 1024,\n",
    "        \"prompt\": prompt_5,\n",
    "        \"scheduler\": \"K_EULER\",\n",
    "        \"num_outputs\": 1,\n",
    "        \"guidance_scale\": 2,\n",
    "        \"apply_watermark\": True,\n",
    "        \"negative_prompt\": \"ugly, deformed, noisy, blurry, low contrast, text, BadDream, 3d, cgi, render, fake, anime, open mouth, big forehead, long neck\",\n",
    "        \"num_inference_steps\": 7\n",
    "    }\n",
    ")\n",
    "print(output)"
   ]
  },
  {
   "cell_type": "markdown",
   "id": "61745906-3b5a-4d66-9d27-16bde184d927",
   "metadata": {},
   "source": [
    "# fofr/latent-consistency-model\n",
    "\n",
    "https://replicate.com/fofr/latent-consistency-model\n",
    "\n",
    "0.0014 to run on Replicate, or 714 runs per $1\n",
    "\n",
    "useless model"
   ]
  },
  {
   "cell_type": "code",
   "execution_count": 30,
   "id": "28964cb5-ce1b-4822-a231-d7303a182d03",
   "metadata": {},
   "outputs": [
    {
     "name": "stdout",
     "output_type": "stream",
     "text": [
      "['https://replicate.delivery/yhqm/9Ow9xOiEdEZgJNflNA80IQTVg5UmvN2rxlLzxMNl9PTkSB0JA/out-0.jpg', 'https://replicate.delivery/yhqm/Elo9wIbO1SoJGpcEAGj1Pyvt5Y1TK5xIqswtPMyA7TPSpA6E/out-1.jpg', 'https://replicate.delivery/yhqm/G3OdefDiOdlkbEck1rwgGzf4hwmxKAeO7eCzdaIyNrgGpUAdC/out-2.jpg', 'https://replicate.delivery/yhqm/Gth2xsLR0JJ0JZnOwf7bZvIrex9PyfxGvtsc5DiSVxJRKFQnA/out-3.jpg', 'https://replicate.delivery/yhqm/E92HSaOl5j5gC1S4kx9mAsxP4GNaKXqs6xEyyv7UDMASpA6E/out-4.jpg', 'https://replicate.delivery/yhqm/lzKFKesfbBpVukaebnyo4mDL4OV3gDNLifswPlkjBl3jUKgOB/out-5.jpg']\n"
     ]
    }
   ],
   "source": [
    "output = replicate.run(\n",
    "    \"fofr/latent-consistency-model:683d19dc312f7a9f0428b04429a9ccefd28dbf7785fef083ad5cf991b65f406f\",\n",
    "    input={\n",
    "        \"image\": \"https://replicate.delivery/pbxt/JlG0Efd2ubBp9yGnlOi7I9Se2rXnJSrPFogLf0YieKgjnWN6/download-6.png\",\n",
    "        \"width\": 768,\n",
    "        \"height\": 768,\n",
    "        \"prompt\": prompt_1,\n",
    "        \"num_images\": 1,\n",
    "        \"guidance_scale\": 8,\n",
    "        \"archive_outputs\": False,\n",
    "        \"prompt_strength\": 0.45,\n",
    "        \"sizing_strategy\": \"width/height\",\n",
    "        \"lcm_origin_steps\": 50,\n",
    "        \"canny_low_threshold\": 100,\n",
    "        \"num_inference_steps\": 4,\n",
    "        \"canny_high_threshold\": 200,\n",
    "        \"control_guidance_end\": 1,\n",
    "        \"control_guidance_start\": 0,\n",
    "        \"controlnet_conditioning_scale\": 2\n",
    "    }\n",
    ")\n",
    "print(output)"
   ]
  },
  {
   "cell_type": "code",
   "execution_count": 31,
   "id": "3135a8f3-fc82-4c3b-a6e1-9ca23c8904dd",
   "metadata": {},
   "outputs": [
    {
     "name": "stdout",
     "output_type": "stream",
     "text": [
      "['https://replicate.delivery/yhqm/Iefy7ewHOOJtHIKMATqyfe3F47qqCFrQodq0XlxcrJyZpUAdC/out-0.jpg', 'https://replicate.delivery/yhqm/ZfJHweaMV8n6kkeUtE8mAVcxDMl8tWTi46r0Ij0o0L4WKFQnA/out-1.jpg', 'https://replicate.delivery/yhqm/dEquT7nlHOa3Hhkam3qe7WuX1CVZgL2N1viR7acEJ2ulSB0JA/out-2.jpg', 'https://replicate.delivery/yhqm/40LbSOUe7EUXYCRba9AajGAYzpn5BDbvjg4SpDWWVN0lSB0JA/out-3.jpg', 'https://replicate.delivery/yhqm/GZdO5cYEvKpuCJHhXLeOrfRhgf8U0t7N1ENDQXWXeeJdpUAdC/out-4.jpg', 'https://replicate.delivery/yhqm/uaZefY6lVska1E0SEV2QrZq3PpEfP045UfUudMe1MzfzSpA6E/out-5.jpg', 'https://replicate.delivery/yhqm/fh8em1TdrhmJ4kxVGy9I050VVLwCBOhqb0I2FjSlKZtLlCoTA/out-6.jpg']\n"
     ]
    }
   ],
   "source": [
    "output = replicate.run(\n",
    "    \"fofr/latent-consistency-model:683d19dc312f7a9f0428b04429a9ccefd28dbf7785fef083ad5cf991b65f406f\",\n",
    "    input={\n",
    "        \"image\": \"https://replicate.delivery/pbxt/JlG0Efd2ubBp9yGnlOi7I9Se2rXnJSrPFogLf0YieKgjnWN6/download-6.png\",\n",
    "        \"width\": 768,\n",
    "        \"height\": 768,\n",
    "        \"prompt\": prompt_2,\n",
    "        \"num_images\": 1,\n",
    "        \"guidance_scale\": 8,\n",
    "        \"archive_outputs\": False,\n",
    "        \"prompt_strength\": 0.45,\n",
    "        \"sizing_strategy\": \"width/height\",\n",
    "        \"lcm_origin_steps\": 50,\n",
    "        \"canny_low_threshold\": 100,\n",
    "        \"num_inference_steps\": 4,\n",
    "        \"canny_high_threshold\": 200,\n",
    "        \"control_guidance_end\": 1,\n",
    "        \"control_guidance_start\": 0,\n",
    "        \"controlnet_conditioning_scale\": 2\n",
    "    }\n",
    ")\n",
    "print(output)"
   ]
  },
  {
   "cell_type": "code",
   "execution_count": 32,
   "id": "10f1ea06-f99e-4e40-b46b-6fe5089ed206",
   "metadata": {},
   "outputs": [
    {
     "name": "stdout",
     "output_type": "stream",
     "text": [
      "['https://replicate.delivery/yhqm/dLaRlE0VMf1FJC0dFlhU4bjGXczNH3URSGTOmoMKI1snSB0JA/out-0.jpg', 'https://replicate.delivery/yhqm/oNAtFZh86z4dOl5hxkJgz5yENSw4uoC6UyFDYvPfoRpnSB0JA/out-1.jpg', 'https://replicate.delivery/yhqm/ya8315rwG459Ixm47UNft3dfvqB4JwuyOlw23eEfBIv8UKgOB/out-2.jpg', 'https://replicate.delivery/yhqm/HedWiSgpGuTVcqUzpUy3BXtosV5eqRBjWbQ500vMF0ffUKgOB/out-3.jpg', 'https://replicate.delivery/yhqm/4UelGxeFK3qKbkxLzgKN5mYekX4BEpNpIGDjmon5zfZepUAdC/out-4.jpg', 'https://replicate.delivery/yhqm/IRVUsqxs1J63OpbWzJp7DUcVvPE6mTMUTX51IVq1PRyTpA6E/out-5.jpg']\n"
     ]
    }
   ],
   "source": [
    "output = replicate.run(\n",
    "    \"fofr/latent-consistency-model:683d19dc312f7a9f0428b04429a9ccefd28dbf7785fef083ad5cf991b65f406f\",\n",
    "    input={\n",
    "        \"image\": \"https://replicate.delivery/pbxt/JlG0Efd2ubBp9yGnlOi7I9Se2rXnJSrPFogLf0YieKgjnWN6/download-6.png\",\n",
    "        \"width\": 768,\n",
    "        \"height\": 768,\n",
    "        \"prompt\": prompt_3,\n",
    "        \"num_images\": 1,\n",
    "        \"guidance_scale\": 8,\n",
    "        \"archive_outputs\": False,\n",
    "        \"prompt_strength\": 0.45,\n",
    "        \"sizing_strategy\": \"width/height\",\n",
    "        \"lcm_origin_steps\": 50,\n",
    "        \"canny_low_threshold\": 100,\n",
    "        \"num_inference_steps\": 4,\n",
    "        \"canny_high_threshold\": 200,\n",
    "        \"control_guidance_end\": 1,\n",
    "        \"control_guidance_start\": 0,\n",
    "        \"controlnet_conditioning_scale\": 2\n",
    "    }\n",
    ")\n",
    "print(output)"
   ]
  },
  {
   "cell_type": "code",
   "execution_count": 33,
   "id": "fbae7938-6894-4eda-b8d3-8cc02bedc737",
   "metadata": {},
   "outputs": [
    {
     "name": "stdout",
     "output_type": "stream",
     "text": [
      "['https://replicate.delivery/yhqm/HETFZfe6LwinwEp1PYfSfh2CzxaUOVvCW24hOT72HgsOVKgOB/out-0.jpg', 'https://replicate.delivery/yhqm/GJF4I10Ne2ySJiJ7dsY4RSmVYYiaK0HpvS9u7JOn3U3pSB0JA/out-1.jpg', 'https://replicate.delivery/yhqm/xJsNrY6SskqXFxn3zTANlqF0Vn5zDre1iTsFWRqT2B8pSB0JA/out-2.jpg', 'https://replicate.delivery/yhqm/bAG2bWo1DV6oH1KTlf1JFUDbANresRCAb7bpAUubGVfmKFQnA/out-3.jpg', 'https://replicate.delivery/yhqm/PhaJb1Y4kOaIK5xk1Gg5XraqVOeoWmoX0SlObtl3PI0pSB0JA/out-4.jpg', 'https://replicate.delivery/yhqm/xKJoOkvIkzaQGRs1ex8DlpiVnXgfNLGEStNqf6rITNumKFQnA/out-5.jpg', 'https://replicate.delivery/yhqm/AIepQhbeQ1sWHUP3aePYOJtfwrd2dJFE3FG37uowOZnMVKgOB/out-6.jpg']\n"
     ]
    }
   ],
   "source": [
    "output = replicate.run(\n",
    "    \"fofr/latent-consistency-model:683d19dc312f7a9f0428b04429a9ccefd28dbf7785fef083ad5cf991b65f406f\",\n",
    "    input={\n",
    "        \"image\": \"https://replicate.delivery/pbxt/JlG0Efd2ubBp9yGnlOi7I9Se2rXnJSrPFogLf0YieKgjnWN6/download-6.png\",\n",
    "        \"width\": 768,\n",
    "        \"height\": 768,\n",
    "        \"prompt\": prompt_4,\n",
    "        \"num_images\": 1,\n",
    "        \"guidance_scale\": 8,\n",
    "        \"archive_outputs\": False,\n",
    "        \"prompt_strength\": 0.45,\n",
    "        \"sizing_strategy\": \"width/height\",\n",
    "        \"lcm_origin_steps\": 50,\n",
    "        \"canny_low_threshold\": 100,\n",
    "        \"num_inference_steps\": 4,\n",
    "        \"canny_high_threshold\": 200,\n",
    "        \"control_guidance_end\": 1,\n",
    "        \"control_guidance_start\": 0,\n",
    "        \"controlnet_conditioning_scale\": 2\n",
    "    }\n",
    ")\n",
    "print(output)"
   ]
  },
  {
   "cell_type": "code",
   "execution_count": 34,
   "id": "494f63bb-b0e3-4eee-a9f0-f9a4255bbdc9",
   "metadata": {},
   "outputs": [
    {
     "name": "stdout",
     "output_type": "stream",
     "text": [
      "['https://replicate.delivery/yhqm/euBPfT8AT6tgZ07u7id7X2bfEtUsxjbZKctEAeVnAn2bVKgOB/out-0.jpg', 'https://replicate.delivery/yhqm/0ItlWMfkqY0SMitk3xoTT9nW1d2a4fYI0pBoUlCO54nWlCoTA/out-1.jpg', 'https://replicate.delivery/yhqm/VGvfgaVJjLzaDye7FUsh5eyqpJW3shcBKeDDMhB5nFbZVKgOB/out-2.jpg', 'https://replicate.delivery/yhqm/G2VqUQUlfDWIQ6kmrjtTPJSw0pEubv8bQMeiO1a6YA3WlCoTA/out-3.jpg', 'https://replicate.delivery/yhqm/uUbF8GukIp4YO90dIEJhHYZwJkwFu91nOxMgGzsneTYrSB0JA/out-4.jpg', 'https://replicate.delivery/yhqm/3FAbJSXM9eXuBqQNVf1VMflbEStaaU1q2YaESBeRKuNYVKgOB/out-5.jpg', 'https://replicate.delivery/yhqm/ervyOTDafkisuUIF9fVNdwJcgfegFwJgA9faZf8sq7bRrSB0JA/out-6.jpg', 'https://replicate.delivery/yhqm/i4n3Z3hDebweckDkT5kh9TZgslgzXW7LqqfFT9wpnNTtKFQnA/out-7.jpg']\n"
     ]
    }
   ],
   "source": [
    "output = replicate.run(\n",
    "    \"fofr/latent-consistency-model:683d19dc312f7a9f0428b04429a9ccefd28dbf7785fef083ad5cf991b65f406f\",\n",
    "    input={\n",
    "        \"image\": \"https://replicate.delivery/pbxt/JlG0Efd2ubBp9yGnlOi7I9Se2rXnJSrPFogLf0YieKgjnWN6/download-6.png\",\n",
    "        \"width\": 768,\n",
    "        \"height\": 768,\n",
    "        \"prompt\": prompt_5,\n",
    "        \"num_images\": 1,\n",
    "        \"guidance_scale\": 8,\n",
    "        \"archive_outputs\": False,\n",
    "        \"prompt_strength\": 0.45,\n",
    "        \"sizing_strategy\": \"width/height\",\n",
    "        \"lcm_origin_steps\": 50,\n",
    "        \"canny_low_threshold\": 100,\n",
    "        \"num_inference_steps\": 4,\n",
    "        \"canny_high_threshold\": 200,\n",
    "        \"control_guidance_end\": 1,\n",
    "        \"control_guidance_start\": 0,\n",
    "        \"controlnet_conditioning_scale\": 2\n",
    "    }\n",
    ")\n",
    "print(output)"
   ]
  },
  {
   "cell_type": "markdown",
   "id": "3443312e-a30d-4055-b8e7-b0c81dfa314e",
   "metadata": {},
   "source": [
    "# playgroundai/playground-v2.5-1024px-aesthetic\n",
    "\n",
    "https://replicate.com/playgroundai/playground-v2.5-1024px-aesthetic\n",
    "\n",
    "0.0060 to run on Replicate, or 166 runs per $1\n",
    "\n",
    "a little slow but everything else is good."
   ]
  },
  {
   "cell_type": "code",
   "execution_count": 35,
   "id": "32b12929-c3a8-4552-a777-6e598d0e8cc0",
   "metadata": {},
   "outputs": [
    {
     "name": "stdout",
     "output_type": "stream",
     "text": [
      "['https://replicate.delivery/yhqm/SnC4xf9HJJ3uVioeaFxhdJfUNo1Y7t3W5V1D9hbZKg5f3KgOB/out-0.png']\n"
     ]
    }
   ],
   "source": [
    "output = replicate.run(\n",
    "    \"playgroundai/playground-v2.5-1024px-aesthetic:a45f82a1382bed5c7aeb861dac7c7d191b0fdf74d8d57c4a0e6ed7d4d0bf7d24\",\n",
    "    input={\n",
    "        \"width\": 1024,\n",
    "        \"height\": 1024,\n",
    "        \"prompt\": prompt_1,\n",
    "        \"scheduler\": \"DPMSolver++\",\n",
    "        \"num_outputs\": 1,\n",
    "        \"guidance_scale\": 3,\n",
    "        \"apply_watermark\": True,\n",
    "        \"negative_prompt\": \"ugly, deformed, noisy, blurry, distorted\",\n",
    "        \"prompt_strength\": 0.8,\n",
    "        \"num_inference_steps\": 25\n",
    "    }\n",
    ")\n",
    "print(output)"
   ]
  },
  {
   "cell_type": "code",
   "execution_count": 36,
   "id": "d1d10891-bf11-4f4a-83b9-c11c430888af",
   "metadata": {},
   "outputs": [
    {
     "name": "stdout",
     "output_type": "stream",
     "text": [
      "['https://replicate.delivery/yhqm/aaSuGxKc3s7CE9nxZjgCWvCepfLJcrsmKEDUwROha4JEuCoTA/out-0.png']\n"
     ]
    }
   ],
   "source": [
    "output = replicate.run(\n",
    "    \"playgroundai/playground-v2.5-1024px-aesthetic:a45f82a1382bed5c7aeb861dac7c7d191b0fdf74d8d57c4a0e6ed7d4d0bf7d24\",\n",
    "    input={\n",
    "        \"width\": 1024,\n",
    "        \"height\": 1024,\n",
    "        \"prompt\": prompt_2,\n",
    "        \"scheduler\": \"DPMSolver++\",\n",
    "        \"num_outputs\": 1,\n",
    "        \"guidance_scale\": 3,\n",
    "        \"apply_watermark\": True,\n",
    "        \"negative_prompt\": \"ugly, deformed, noisy, blurry, distorted\",\n",
    "        \"prompt_strength\": 0.8,\n",
    "        \"num_inference_steps\": 25\n",
    "    }\n",
    ")\n",
    "print(output)"
   ]
  },
  {
   "cell_type": "code",
   "execution_count": 37,
   "id": "acfab546-0e90-442b-a3fc-af988f763c05",
   "metadata": {},
   "outputs": [
    {
     "name": "stdout",
     "output_type": "stream",
     "text": [
      "['https://replicate.delivery/yhqm/LZew9ggDWpW1PaRaZfS9lKlELeYP8GUweFz2ejRrsi1VxVAdC/out-0.png']\n"
     ]
    }
   ],
   "source": [
    "output = replicate.run(\n",
    "    \"playgroundai/playground-v2.5-1024px-aesthetic:a45f82a1382bed5c7aeb861dac7c7d191b0fdf74d8d57c4a0e6ed7d4d0bf7d24\",\n",
    "    input={\n",
    "        \"width\": 1024,\n",
    "        \"height\": 1024,\n",
    "        \"prompt\": prompt_3,\n",
    "        \"scheduler\": \"DPMSolver++\",\n",
    "        \"num_outputs\": 1,\n",
    "        \"guidance_scale\": 3,\n",
    "        \"apply_watermark\": True,\n",
    "        \"negative_prompt\": \"ugly, deformed, noisy, blurry, distorted\",\n",
    "        \"prompt_strength\": 0.8,\n",
    "        \"num_inference_steps\": 25\n",
    "    }\n",
    ")\n",
    "print(output)"
   ]
  },
  {
   "cell_type": "code",
   "execution_count": 38,
   "id": "509eb1a4-1300-43b2-9842-45a4e1052928",
   "metadata": {},
   "outputs": [
    {
     "name": "stdout",
     "output_type": "stream",
     "text": [
      "['https://replicate.delivery/yhqm/OKQa1NAKDXpPJRi5Z2WZJOue9eTP8MlideLjT9fAg9354KgOB/out-0.png']\n"
     ]
    }
   ],
   "source": [
    "output = replicate.run(\n",
    "    \"playgroundai/playground-v2.5-1024px-aesthetic:a45f82a1382bed5c7aeb861dac7c7d191b0fdf74d8d57c4a0e6ed7d4d0bf7d24\",\n",
    "    input={\n",
    "        \"width\": 1024,\n",
    "        \"height\": 1024,\n",
    "        \"prompt\": prompt_4,\n",
    "        \"scheduler\": \"DPMSolver++\",\n",
    "        \"num_outputs\": 1,\n",
    "        \"guidance_scale\": 3,\n",
    "        \"apply_watermark\": True,\n",
    "        \"negative_prompt\": \"ugly, deformed, noisy, blurry, distorted\",\n",
    "        \"prompt_strength\": 0.8,\n",
    "        \"num_inference_steps\": 25\n",
    "    }\n",
    ")\n",
    "print(output)"
   ]
  },
  {
   "cell_type": "code",
   "execution_count": 39,
   "id": "e0da5347-1f6f-4697-be46-95751ec9a3e8",
   "metadata": {},
   "outputs": [
    {
     "name": "stdout",
     "output_type": "stream",
     "text": [
      "['https://replicate.delivery/yhqm/4JMEU1T6JWrsHlgVzCOFE4tuNACbAeb2nJea1SdFGIkTuCoTA/out-0.png']\n"
     ]
    }
   ],
   "source": [
    "output = replicate.run(\n",
    "    \"playgroundai/playground-v2.5-1024px-aesthetic:a45f82a1382bed5c7aeb861dac7c7d191b0fdf74d8d57c4a0e6ed7d4d0bf7d24\",\n",
    "    input={\n",
    "        \"width\": 1024,\n",
    "        \"height\": 1024,\n",
    "        \"prompt\": prompt_5,\n",
    "        \"scheduler\": \"DPMSolver++\",\n",
    "        \"num_outputs\": 1,\n",
    "        \"guidance_scale\": 3,\n",
    "        \"apply_watermark\": True,\n",
    "        \"negative_prompt\": \"ugly, deformed, noisy, blurry, distorted\",\n",
    "        \"prompt_strength\": 0.8,\n",
    "        \"num_inference_steps\": 25\n",
    "    }\n",
    ")\n",
    "print(output)"
   ]
  },
  {
   "cell_type": "markdown",
   "id": "fd455f99-5ffa-42d7-9328-e94d35e77f49",
   "metadata": {},
   "source": [
    "# stability-ai/sdxl\n",
    "\n",
    "https://replicate.com/stability-ai/sdxl\n",
    "\n",
    "0070 to run on Replicate, or 142 runs per $1\n",
    "\n",
    "somewhat slow, deformed faces"
   ]
  },
  {
   "cell_type": "code",
   "execution_count": 40,
   "id": "0204f7fb-4408-411a-bcf3-f6105e5bc019",
   "metadata": {},
   "outputs": [
    {
     "name": "stdout",
     "output_type": "stream",
     "text": [
      "['https://replicate.delivery/pbxt/LoHUphdNnv5FI1hU4RueikiJKdzeDPqJTu9pt6OMQf2a2FQnA/out-0.png']\n"
     ]
    }
   ],
   "source": [
    "output = replicate.run(\n",
    "    \"stability-ai/sdxl:7762fd07cf82c948538e41f63f77d685e02b063e37e496e96eefd46c929f9bdc\",\n",
    "    input={\n",
    "        \"width\": 768,\n",
    "        \"height\": 768,\n",
    "        \"prompt\": prompt_1,\n",
    "        \"refine\": \"expert_ensemble_refiner\",\n",
    "        \"scheduler\": \"K_EULER\",\n",
    "        \"lora_scale\": 0.6,\n",
    "        \"num_outputs\": 1,\n",
    "        \"guidance_scale\": 7.5,\n",
    "        \"apply_watermark\": False,\n",
    "        \"high_noise_frac\": 0.8,\n",
    "        \"negative_prompt\": \"\",\n",
    "        \"prompt_strength\": 0.8,\n",
    "        \"num_inference_steps\": 25\n",
    "    }\n",
    ")\n",
    "print(output)"
   ]
  },
  {
   "cell_type": "code",
   "execution_count": 41,
   "id": "59d91275-d65e-4245-a36b-30e538d86249",
   "metadata": {},
   "outputs": [
    {
     "name": "stdout",
     "output_type": "stream",
     "text": [
      "['https://replicate.delivery/pbxt/K80dJ8iq4WIWEZfH8UIhrzVoM2ELFXZzTCqDGfSAiNyU7CoTA/out-0.png']\n"
     ]
    }
   ],
   "source": [
    "output = replicate.run(\n",
    "    \"stability-ai/sdxl:7762fd07cf82c948538e41f63f77d685e02b063e37e496e96eefd46c929f9bdc\",\n",
    "    input={\n",
    "        \"width\": 768,\n",
    "        \"height\": 768,\n",
    "        \"prompt\": prompt_2,\n",
    "        \"refine\": \"expert_ensemble_refiner\",\n",
    "        \"scheduler\": \"K_EULER\",\n",
    "        \"lora_scale\": 0.6,\n",
    "        \"num_outputs\": 1,\n",
    "        \"guidance_scale\": 7.5,\n",
    "        \"apply_watermark\": False,\n",
    "        \"high_noise_frac\": 0.8,\n",
    "        \"negative_prompt\": \"\",\n",
    "        \"prompt_strength\": 0.8,\n",
    "        \"num_inference_steps\": 25\n",
    "    }\n",
    ")\n",
    "print(output)"
   ]
  },
  {
   "cell_type": "code",
   "execution_count": 42,
   "id": "5c31bf1a-3e61-441c-aff3-2d18024dd5e3",
   "metadata": {},
   "outputs": [
    {
     "name": "stdout",
     "output_type": "stream",
     "text": [
      "['https://replicate.delivery/pbxt/dRf61RY6I7XMGK5YOqPoT7T9j0EQfLrpK8fhwPRszyA22FQnA/out-0.png']\n"
     ]
    }
   ],
   "source": [
    "output = replicate.run(\n",
    "    \"stability-ai/sdxl:7762fd07cf82c948538e41f63f77d685e02b063e37e496e96eefd46c929f9bdc\",\n",
    "    input={\n",
    "        \"width\": 768,\n",
    "        \"height\": 768,\n",
    "        \"prompt\": prompt_3,\n",
    "        \"refine\": \"expert_ensemble_refiner\",\n",
    "        \"scheduler\": \"K_EULER\",\n",
    "        \"lora_scale\": 0.6,\n",
    "        \"num_outputs\": 1,\n",
    "        \"guidance_scale\": 7.5,\n",
    "        \"apply_watermark\": False,\n",
    "        \"high_noise_frac\": 0.8,\n",
    "        \"negative_prompt\": \"\",\n",
    "        \"prompt_strength\": 0.8,\n",
    "        \"num_inference_steps\": 25\n",
    "    }\n",
    ")\n",
    "print(output)"
   ]
  },
  {
   "cell_type": "code",
   "execution_count": 43,
   "id": "f6c70aaa-602c-44e6-b18e-4d411ae3a2d5",
   "metadata": {},
   "outputs": [
    {
     "name": "stdout",
     "output_type": "stream",
     "text": [
      "['https://replicate.delivery/pbxt/91EH8zv2C4YFKxmjYvFaTpvau8rNcKQoVrZoy1JEBIs4uA6E/out-0.png']\n"
     ]
    }
   ],
   "source": [
    "output = replicate.run(\n",
    "    \"stability-ai/sdxl:7762fd07cf82c948538e41f63f77d685e02b063e37e496e96eefd46c929f9bdc\",\n",
    "    input={\n",
    "        \"width\": 768,\n",
    "        \"height\": 768,\n",
    "        \"prompt\": prompt_4,\n",
    "        \"refine\": \"expert_ensemble_refiner\",\n",
    "        \"scheduler\": \"K_EULER\",\n",
    "        \"lora_scale\": 0.6,\n",
    "        \"num_outputs\": 1,\n",
    "        \"guidance_scale\": 7.5,\n",
    "        \"apply_watermark\": False,\n",
    "        \"high_noise_frac\": 0.8,\n",
    "        \"negative_prompt\": \"\",\n",
    "        \"prompt_strength\": 0.8,\n",
    "        \"num_inference_steps\": 25\n",
    "    }\n",
    ")\n",
    "print(output)"
   ]
  },
  {
   "cell_type": "code",
   "execution_count": 44,
   "id": "c8bf71c6-5b80-4ab7-ad7d-09e8c01d94df",
   "metadata": {},
   "outputs": [
    {
     "name": "stdout",
     "output_type": "stream",
     "text": [
      "['https://replicate.delivery/pbxt/tsKjo3uBbR6ABBeKGi7qio6eNAstUKGf209qP1w6iT4Q3FQnA/out-0.png']\n"
     ]
    }
   ],
   "source": [
    "output = replicate.run(\n",
    "    \"stability-ai/sdxl:7762fd07cf82c948538e41f63f77d685e02b063e37e496e96eefd46c929f9bdc\",\n",
    "    input={\n",
    "        \"width\": 768,\n",
    "        \"height\": 768,\n",
    "        \"prompt\": prompt_5,\n",
    "        \"refine\": \"expert_ensemble_refiner\",\n",
    "        \"scheduler\": \"K_EULER\",\n",
    "        \"lora_scale\": 0.6,\n",
    "        \"num_outputs\": 1,\n",
    "        \"guidance_scale\": 7.5,\n",
    "        \"apply_watermark\": False,\n",
    "        \"high_noise_frac\": 0.8,\n",
    "        \"negative_prompt\": \"\",\n",
    "        \"prompt_strength\": 0.8,\n",
    "        \"num_inference_steps\": 25\n",
    "    }\n",
    ")\n",
    "print(output)"
   ]
  },
  {
   "cell_type": "markdown",
   "id": "303d85f3-aef1-4714-a8af-de487229058f",
   "metadata": {},
   "source": [
    "# black-forest-labs/flux-dev\n",
    "\n",
    "https://replicate.com/black-forest-labs/flux-dev\n",
    "\n",
    "0.025 / image || \r\n",
    "40 images / \n",
    "\n",
    "good output but costly$1"
   ]
  },
  {
   "cell_type": "code",
   "execution_count": 45,
   "id": "c7b529c4-3279-464e-9e30-6672c7271446",
   "metadata": {},
   "outputs": [
    {
     "name": "stdout",
     "output_type": "stream",
     "text": [
      "['https://replicate.delivery/yhqm/ilTl3A3q66ZCDhgtuvW6TJ5zHSSPElLk9m3keqfPD1AVJDoTA/out-0.webp']\n"
     ]
    }
   ],
   "source": [
    "output = replicate.run(\n",
    "    \"black-forest-labs/flux-dev\",\n",
    "    input={\n",
    "        \"prompt\": prompt_1,\n",
    "        \"go_fast\": True,\n",
    "        \"guidance\": 3.5,\n",
    "        \"megapixels\": \"1\",\n",
    "        \"num_outputs\": 1,\n",
    "        \"aspect_ratio\": \"1:1\",\n",
    "        \"output_format\": \"webp\",\n",
    "        \"output_quality\": 80,\n",
    "        \"prompt_strength\": 0.8,\n",
    "        \"num_inference_steps\": 28\n",
    "    }\n",
    ")\n",
    "print(output)"
   ]
  },
  {
   "cell_type": "code",
   "execution_count": 46,
   "id": "0d44c196-8d4d-408d-bd88-9f01ac5e77e9",
   "metadata": {},
   "outputs": [
    {
     "name": "stdout",
     "output_type": "stream",
     "text": [
      "['https://replicate.delivery/yhqm/vEm612XF0P6LPNisVZdevQ85xGFvtQZ48ZXzb1XaYiWtkB0JA/out-0.webp']\n"
     ]
    }
   ],
   "source": [
    "output = replicate.run(\n",
    "    \"black-forest-labs/flux-dev\",\n",
    "    input={\n",
    "        \"prompt\": prompt_2,\n",
    "        \"go_fast\": True,\n",
    "        \"guidance\": 3.5,\n",
    "        \"megapixels\": \"1\",\n",
    "        \"num_outputs\": 1,\n",
    "        \"aspect_ratio\": \"1:1\",\n",
    "        \"output_format\": \"webp\",\n",
    "        \"output_quality\": 80,\n",
    "        \"prompt_strength\": 0.8,\n",
    "        \"num_inference_steps\": 28\n",
    "    }\n",
    ")\n",
    "print(output)"
   ]
  },
  {
   "cell_type": "code",
   "execution_count": 47,
   "id": "f90db94e-71f1-4e71-800e-2e3d57d94590",
   "metadata": {},
   "outputs": [
    {
     "name": "stdout",
     "output_type": "stream",
     "text": [
      "['https://replicate.delivery/yhqm/HoKZptxmXE4fKyzDetMh7FFtsmy4xtYBNWgTCh3dvaueSGQnA/out-0.webp']\n"
     ]
    }
   ],
   "source": [
    "output = replicate.run(\n",
    "    \"black-forest-labs/flux-dev\",\n",
    "    input={\n",
    "        \"prompt\": prompt_3,\n",
    "        \"go_fast\": True,\n",
    "        \"guidance\": 3.5,\n",
    "        \"megapixels\": \"1\",\n",
    "        \"num_outputs\": 1,\n",
    "        \"aspect_ratio\": \"1:1\",\n",
    "        \"output_format\": \"webp\",\n",
    "        \"output_quality\": 80,\n",
    "        \"prompt_strength\": 0.8,\n",
    "        \"num_inference_steps\": 28\n",
    "    }\n",
    ")\n",
    "print(output)"
   ]
  },
  {
   "cell_type": "code",
   "execution_count": 48,
   "id": "1d60aac0-fc96-4498-bb9c-11b52b860adb",
   "metadata": {},
   "outputs": [
    {
     "name": "stdout",
     "output_type": "stream",
     "text": [
      "['https://replicate.delivery/yhqm/EJAPaTTjvopbM1e1fBCX2hT3Kp2VWncg242UbcWjP8GiJDoTA/out-0.webp']\n"
     ]
    }
   ],
   "source": [
    "output = replicate.run(\n",
    "    \"black-forest-labs/flux-dev\",\n",
    "    input={\n",
    "        \"prompt\": prompt_4,\n",
    "        \"go_fast\": True,\n",
    "        \"guidance\": 3.5,\n",
    "        \"megapixels\": \"1\",\n",
    "        \"num_outputs\": 1,\n",
    "        \"aspect_ratio\": \"1:1\",\n",
    "        \"output_format\": \"webp\",\n",
    "        \"output_quality\": 80,\n",
    "        \"prompt_strength\": 0.8,\n",
    "        \"num_inference_steps\": 28\n",
    "    }\n",
    ")\n",
    "print(output)"
   ]
  },
  {
   "cell_type": "code",
   "execution_count": 49,
   "id": "a08dbaa1-39c0-4999-9d7f-2e54727a9275",
   "metadata": {},
   "outputs": [
    {
     "name": "stdout",
     "output_type": "stream",
     "text": [
      "['https://replicate.delivery/yhqm/VOzUKGvGe2zSd6NEvdaeRrE7MfU2ofI43RQ3c8hrfqvtMZAdC/out-0.webp']\n"
     ]
    }
   ],
   "source": [
    "output = replicate.run(\n",
    "    \"black-forest-labs/flux-dev\",\n",
    "    input={\n",
    "        \"prompt\": prompt_5,\n",
    "        \"go_fast\": True,\n",
    "        \"guidance\": 3.5,\n",
    "        \"megapixels\": \"1\",\n",
    "        \"num_outputs\": 1,\n",
    "        \"aspect_ratio\": \"1:1\",\n",
    "        \"output_format\": \"webp\",\n",
    "        \"output_quality\": 80,\n",
    "        \"prompt_strength\": 0.8,\n",
    "        \"num_inference_steps\": 28\n",
    "    }\n",
    ")\n",
    "print(output)"
   ]
  },
  {
   "cell_type": "markdown",
   "id": "a35df4e3-a93a-4922-865f-125d626e8b78",
   "metadata": {},
   "source": [
    "# lucataco/pixart-xl-2\n",
    "\n",
    "https://replicate.com/lucataco/pixart-xl-2\n",
    "\n",
    "0038 to run on Replicate, or 263 runs per $1\n",
    "\n",
    "timeout occured"
   ]
  },
  {
   "cell_type": "code",
   "execution_count": 62,
   "id": "8096c169-f3e2-43b8-886a-1fcd13a118df",
   "metadata": {},
   "outputs": [
    {
     "name": "stdout",
     "output_type": "stream",
     "text": [
      "['https://replicate.delivery/pbxt/cXppnED7eLwHAC567FUALxGStwrffTFfALhhEXxfdLmELeA6E/out-0.png']\n"
     ]
    }
   ],
   "source": [
    "output = replicate.run(\n",
    "    \"lucataco/pixart-xl-2:816c99673841b9448bc2539834c16d40e0315bbf92fef0317b57a226727409bb\",\n",
    "    input={\n",
    "        \"style\": \"None\",\n",
    "        \"width\": 1024,\n",
    "        \"height\": 1024,\n",
    "        \"prompt\": prompt_1,\n",
    "        \"scheduler\": \"DPMSolverMultistep\",\n",
    "        \"num_outputs\": 1,\n",
    "        \"guidance_scale\": 4.5,\n",
    "        \"num_inference_steps\": 14\n",
    "    }\n",
    ")\n",
    "print(output)"
   ]
  },
  {
   "cell_type": "code",
   "execution_count": null,
   "id": "66f3ca95-6df3-4b20-9c60-5448164ccf8e",
   "metadata": {},
   "outputs": [],
   "source": [
    "output = replicate.run(\n",
    "    \"lucataco/pixart-xl-2:816c99673841b9448bc2539834c16d40e0315bbf92fef0317b57a226727409bb\",\n",
    "    input={\n",
    "        \"style\": \"None\",\n",
    "        \"width\": 1024,\n",
    "        \"height\": 1024,\n",
    "        \"prompt\": prompt_2,\n",
    "        \"scheduler\": \"DPMSolverMultistep\",\n",
    "        \"num_outputs\": 1,\n",
    "        \"guidance_scale\": 4.5,\n",
    "        \"num_inference_steps\": 14\n",
    "    }\n",
    ")\n",
    "print(output)"
   ]
  },
  {
   "cell_type": "code",
   "execution_count": null,
   "id": "b39e8d94-557f-4f23-b7eb-cdc30ce277f8",
   "metadata": {},
   "outputs": [],
   "source": [
    "output = replicate.run(\n",
    "    \"lucataco/pixart-xl-2:816c99673841b9448bc2539834c16d40e0315bbf92fef0317b57a226727409bb\",\n",
    "    input={\n",
    "        \"style\": \"None\",\n",
    "        \"width\": 1024,\n",
    "        \"height\": 1024,\n",
    "        \"prompt\": prompt_3,\n",
    "        \"scheduler\": \"DPMSolverMultistep\",\n",
    "        \"num_outputs\": 1,\n",
    "        \"guidance_scale\": 4.5,\n",
    "        \"num_inference_steps\": 14\n",
    "    }\n",
    ")\n",
    "print(output)"
   ]
  },
  {
   "cell_type": "code",
   "execution_count": null,
   "id": "314b5786-d9eb-465e-8e9c-3256db8dd25e",
   "metadata": {},
   "outputs": [],
   "source": [
    "output = replicate.run(\n",
    "    \"lucataco/pixart-xl-2:816c99673841b9448bc2539834c16d40e0315bbf92fef0317b57a226727409bb\",\n",
    "    input={\n",
    "        \"style\": \"None\",\n",
    "        \"width\": 1024,\n",
    "        \"height\": 1024,\n",
    "        \"prompt\": prompt_4,\n",
    "        \"scheduler\": \"DPMSolverMultistep\",\n",
    "        \"num_outputs\": 1,\n",
    "        \"guidance_scale\": 4.5,\n",
    "        \"num_inference_steps\": 14\n",
    "    }\n",
    ")\n",
    "print(output)"
   ]
  },
  {
   "cell_type": "code",
   "execution_count": null,
   "id": "bee16402-73eb-46c6-a3ac-e6c8fef1094c",
   "metadata": {},
   "outputs": [],
   "source": [
    "output = replicate.run(\n",
    "    \"lucataco/pixart-xl-2:816c99673841b9448bc2539834c16d40e0315bbf92fef0317b57a226727409bb\",\n",
    "    input={\n",
    "        \"style\": \"None\",\n",
    "        \"width\": 1024,\n",
    "        \"height\": 1024,\n",
    "        \"prompt\": prompt_5,\n",
    "        \"scheduler\": \"DPMSolverMultistep\",\n",
    "        \"num_outputs\": 1,\n",
    "        \"guidance_scale\": 4.5,\n",
    "        \"num_inference_steps\": 14\n",
    "    }\n",
    ")\n",
    "print(output)"
   ]
  },
  {
   "cell_type": "markdown",
   "id": "47da9502-e837-4ab4-91c0-fad457a4b94b",
   "metadata": {},
   "source": [
    "# adirik/realvisxl-v4.0\n",
    "\n",
    "https://replicate.com/adirik/realvisxl-v4.0\n",
    "\n",
    "0.079 to run on Replicate, or 12 runs per $1\n",
    "\n",
    "took too time to respond, some faces are deformed"
   ]
  },
  {
   "cell_type": "code",
   "execution_count": 51,
   "id": "c05e80f9-97f4-4050-806b-fe6b4c7e733b",
   "metadata": {},
   "outputs": [
    {
     "name": "stdout",
     "output_type": "stream",
     "text": [
      "['https://replicate.delivery/pbxt/biPLtmYEVbJ3CtheA7qLJSTRrqdDGbWlVXP1eQFUUKKf7GQnA/out-0.png']\n"
     ]
    }
   ],
   "source": [
    "output = replicate.run(\n",
    "    \"adirik/realvisxl-v4.0:85a58cc71587cc27539b7c83eb1ce4aea02feedfb9a9fae0598cebc110a3d695\",\n",
    "    input={\n",
    "        \"width\": 768,\n",
    "        \"height\": 768,\n",
    "        \"prompt\": prompt_1,\n",
    "        \"refine\": \"no_refiner\",\n",
    "        \"scheduler\": \"DPM++_SDE_Karras\",\n",
    "        \"num_outputs\": 1,\n",
    "        \"guidance_scale\": 4,\n",
    "        \"apply_watermark\": False,\n",
    "        \"high_noise_frac\": 0.8,\n",
    "        \"negative_prompt\": \"(worst quality, low quality, illustration, 3d, 2d, painting, cartoons, sketch), open mouth\",\n",
    "        \"prompt_strength\": 0.8,\n",
    "        \"num_inference_steps\": 25\n",
    "    }\n",
    ")\n",
    "print(output)"
   ]
  },
  {
   "cell_type": "code",
   "execution_count": 52,
   "id": "f1ea9807-02c2-4760-875a-d60ae15db1fb",
   "metadata": {},
   "outputs": [
    {
     "name": "stdout",
     "output_type": "stream",
     "text": [
      "['https://replicate.delivery/pbxt/y6xKWfXl1mSEJKcBBdh8bIehsZ7ujIEfsn4ewom93rpZ4NgOB/out-0.png']\n"
     ]
    }
   ],
   "source": [
    "output = replicate.run(\n",
    "    \"adirik/realvisxl-v4.0:85a58cc71587cc27539b7c83eb1ce4aea02feedfb9a9fae0598cebc110a3d695\",\n",
    "    input={\n",
    "        \"width\": 768,\n",
    "        \"height\": 768,\n",
    "        \"prompt\": prompt_2,\n",
    "        \"refine\": \"no_refiner\",\n",
    "        \"scheduler\": \"DPM++_SDE_Karras\",\n",
    "        \"num_outputs\": 1,\n",
    "        \"guidance_scale\": 4,\n",
    "        \"apply_watermark\": False,\n",
    "        \"high_noise_frac\": 0.8,\n",
    "        \"negative_prompt\": \"(worst quality, low quality, illustration, 3d, 2d, painting, cartoons, sketch), open mouth\",\n",
    "        \"prompt_strength\": 0.8,\n",
    "        \"num_inference_steps\": 25\n",
    "    }\n",
    ")\n",
    "print(output)"
   ]
  },
  {
   "cell_type": "code",
   "execution_count": 53,
   "id": "d0efe5ab-ded3-4ccb-84c8-39bb9703666a",
   "metadata": {},
   "outputs": [
    {
     "name": "stdout",
     "output_type": "stream",
     "text": [
      "['https://replicate.delivery/pbxt/dS9fOplWnuSbXSiWAUAmtnEoFveRx6xAimoulpClEW4OeGQnA/out-0.png']\n"
     ]
    }
   ],
   "source": [
    "output = replicate.run(\n",
    "    \"adirik/realvisxl-v4.0:85a58cc71587cc27539b7c83eb1ce4aea02feedfb9a9fae0598cebc110a3d695\",\n",
    "    input={\n",
    "        \"width\": 768,\n",
    "        \"height\": 768,\n",
    "        \"prompt\": prompt_3,\n",
    "        \"refine\": \"no_refiner\",\n",
    "        \"scheduler\": \"DPM++_SDE_Karras\",\n",
    "        \"num_outputs\": 1,\n",
    "        \"guidance_scale\": 4,\n",
    "        \"apply_watermark\": False,\n",
    "        \"high_noise_frac\": 0.8,\n",
    "        \"negative_prompt\": \"(worst quality, low quality, illustration, 3d, 2d, painting, cartoons, sketch), open mouth\",\n",
    "        \"prompt_strength\": 0.8,\n",
    "        \"num_inference_steps\": 25\n",
    "    }\n",
    ")\n",
    "print(output)"
   ]
  },
  {
   "cell_type": "code",
   "execution_count": 54,
   "id": "45841ba8-d7af-4c75-bb7a-a767ed83adae",
   "metadata": {},
   "outputs": [
    {
     "name": "stdout",
     "output_type": "stream",
     "text": [
      "['https://replicate.delivery/pbxt/godfLP0sQerkPkfvY6JfzABKnkme93YJrLG9h3upZqPuybAdC/out-0.png']\n"
     ]
    }
   ],
   "source": [
    "output = replicate.run(\n",
    "    \"adirik/realvisxl-v4.0:85a58cc71587cc27539b7c83eb1ce4aea02feedfb9a9fae0598cebc110a3d695\",\n",
    "    input={\n",
    "        \"width\": 768,\n",
    "        \"height\": 768,\n",
    "        \"prompt\": prompt_4,\n",
    "        \"refine\": \"no_refiner\",\n",
    "        \"scheduler\": \"DPM++_SDE_Karras\",\n",
    "        \"num_outputs\": 1,\n",
    "        \"guidance_scale\": 4,\n",
    "        \"apply_watermark\": False,\n",
    "        \"high_noise_frac\": 0.8,\n",
    "        \"negative_prompt\": \"(worst quality, low quality, illustration, 3d, 2d, painting, cartoons, sketch), open mouth\",\n",
    "        \"prompt_strength\": 0.8,\n",
    "        \"num_inference_steps\": 25\n",
    "    }\n",
    ")\n",
    "print(output)"
   ]
  },
  {
   "cell_type": "code",
   "execution_count": 55,
   "id": "23957945-9efc-4a0d-b342-f7d03a67012f",
   "metadata": {},
   "outputs": [
    {
     "name": "stdout",
     "output_type": "stream",
     "text": [
      "['https://replicate.delivery/pbxt/QgnPBMHlloo8C546leadDsE2SEVzX7ymwHVfOcVZTgBceGQnA/out-0.png']\n"
     ]
    }
   ],
   "source": [
    "output = replicate.run(\n",
    "    \"adirik/realvisxl-v4.0:85a58cc71587cc27539b7c83eb1ce4aea02feedfb9a9fae0598cebc110a3d695\",\n",
    "    input={\n",
    "        \"width\": 768,\n",
    "        \"height\": 768,\n",
    "        \"prompt\": prompt_5,\n",
    "        \"refine\": \"no_refiner\",\n",
    "        \"scheduler\": \"DPM++_SDE_Karras\",\n",
    "        \"num_outputs\": 1,\n",
    "        \"guidance_scale\": 4,\n",
    "        \"apply_watermark\": False,\n",
    "        \"high_noise_frac\": 0.8,\n",
    "        \"negative_prompt\": \"(worst quality, low quality, illustration, 3d, 2d, painting, cartoons, sketch), open mouth\",\n",
    "        \"prompt_strength\": 0.8,\n",
    "        \"num_inference_steps\": 25\n",
    "    }\n",
    ")\n",
    "print(output)"
   ]
  },
  {
   "cell_type": "markdown",
   "id": "eb8bc446-5c85-498b-9194-e094ad79935d",
   "metadata": {},
   "source": [
    "# ai-forever/kandinsky-2\n",
    "\n",
    "https://replicate.com/ai-forever/kandinsky-2\n",
    "\n",
    "0.075 to run on Replicate, or 13 runs per $1\n",
    "\n",
    "useless model"
   ]
  },
  {
   "cell_type": "code",
   "execution_count": 56,
   "id": "317b8006-3e3d-432a-bb87-d7a9e9664223",
   "metadata": {},
   "outputs": [
    {
     "name": "stdout",
     "output_type": "stream",
     "text": [
      "['https://replicate.delivery/yhqm/feSONPE9bjqANUfEInAJCmLrZNFiF6plHLyy0fzbeBbzzcAdC/out-0.webp']\n"
     ]
    }
   ],
   "source": [
    "output = replicate.run(\n",
    "    \"ai-forever/kandinsky-2:3c6374e7a9a17e01afe306a5218cc67de55b19ea536466d6ea2602cfecea40a9\",\n",
    "    input={\n",
    "        \"width\": 512,\n",
    "        \"height\": 512,\n",
    "        \"prompt\": prompt_1,\n",
    "        \"scheduler\": \"p_sampler\",\n",
    "        \"batch_size\": 1,\n",
    "        \"prior_steps\": \"5\",\n",
    "        \"output_format\": \"webp\",\n",
    "        \"guidance_scale\": 4,\n",
    "        \"output_quality\": 80,\n",
    "        \"prior_cf_scale\": 4,\n",
    "        \"num_inference_steps\": 100\n",
    "    }\n",
    ")\n",
    "print(output)"
   ]
  },
  {
   "cell_type": "code",
   "execution_count": 57,
   "id": "6d470116-07f9-4fbf-a75f-2697b9a7deb4",
   "metadata": {},
   "outputs": [
    {
     "name": "stdout",
     "output_type": "stream",
     "text": [
      "['https://replicate.delivery/yhqm/klCsKo6WRuKGEV3UWTmZZLjevGHUAe2QpeGmzTbfjwsRaOgOB/out-0.webp']\n"
     ]
    }
   ],
   "source": [
    "output = replicate.run(\n",
    "    \"ai-forever/kandinsky-2:3c6374e7a9a17e01afe306a5218cc67de55b19ea536466d6ea2602cfecea40a9\",\n",
    "    input={\n",
    "        \"width\": 512,\n",
    "        \"height\": 512,\n",
    "        \"prompt\": prompt_2,\n",
    "        \"scheduler\": \"p_sampler\",\n",
    "        \"batch_size\": 1,\n",
    "        \"prior_steps\": \"5\",\n",
    "        \"output_format\": \"webp\",\n",
    "        \"guidance_scale\": 4,\n",
    "        \"output_quality\": 80,\n",
    "        \"prior_cf_scale\": 4,\n",
    "        \"num_inference_steps\": 100\n",
    "    }\n",
    ")\n",
    "print(output)"
   ]
  },
  {
   "cell_type": "code",
   "execution_count": 58,
   "id": "b483a69c-2c82-43a4-8fd1-6314a7632b41",
   "metadata": {},
   "outputs": [
    {
     "name": "stdout",
     "output_type": "stream",
     "text": [
      "['https://replicate.delivery/yhqm/BmRmLvPopkYDOZ7OoH1tiUn7yPHEfzogJEOz8Nugac2UzB0JA/out-0.webp']\n"
     ]
    }
   ],
   "source": [
    "output = replicate.run(\n",
    "    \"ai-forever/kandinsky-2:3c6374e7a9a17e01afe306a5218cc67de55b19ea536466d6ea2602cfecea40a9\",\n",
    "    input={\n",
    "        \"width\": 512,\n",
    "        \"height\": 512,\n",
    "        \"prompt\": prompt_3,\n",
    "        \"scheduler\": \"p_sampler\",\n",
    "        \"batch_size\": 1,\n",
    "        \"prior_steps\": \"5\",\n",
    "        \"output_format\": \"webp\",\n",
    "        \"guidance_scale\": 4,\n",
    "        \"output_quality\": 80,\n",
    "        \"prior_cf_scale\": 4,\n",
    "        \"num_inference_steps\": 100\n",
    "    }\n",
    ")\n",
    "print(output)"
   ]
  },
  {
   "cell_type": "code",
   "execution_count": 59,
   "id": "4fc7f1a2-7292-498c-b595-846d72b0c303",
   "metadata": {},
   "outputs": [
    {
     "name": "stdout",
     "output_type": "stream",
     "text": [
      "['https://replicate.delivery/yhqm/2v1ryGVsRX4dDJs9T1zyYmBZfj8qGnEUeXKbfXMCD2YcNHQnA/out-0.webp']\n"
     ]
    }
   ],
   "source": [
    "output = replicate.run(\n",
    "    \"ai-forever/kandinsky-2:3c6374e7a9a17e01afe306a5218cc67de55b19ea536466d6ea2602cfecea40a9\",\n",
    "    input={\n",
    "        \"width\": 512,\n",
    "        \"height\": 512,\n",
    "        \"prompt\": prompt_4,\n",
    "        \"scheduler\": \"p_sampler\",\n",
    "        \"batch_size\": 1,\n",
    "        \"prior_steps\": \"5\",\n",
    "        \"output_format\": \"webp\",\n",
    "        \"guidance_scale\": 4,\n",
    "        \"output_quality\": 80,\n",
    "        \"prior_cf_scale\": 4,\n",
    "        \"num_inference_steps\": 100\n",
    "    }\n",
    ")\n",
    "print(output)"
   ]
  },
  {
   "cell_type": "code",
   "execution_count": 60,
   "id": "33de9929-1f2f-4869-885c-7db6cb49fac6",
   "metadata": {},
   "outputs": [
    {
     "name": "stdout",
     "output_type": "stream",
     "text": [
      "['https://replicate.delivery/yhqm/f911RMFgOITeQkmlhHiKs6q3DZwHcddPvZ2pQPEvY021mDoTA/out-0.webp']\n"
     ]
    }
   ],
   "source": [
    "output = replicate.run(\n",
    "    \"ai-forever/kandinsky-2:3c6374e7a9a17e01afe306a5218cc67de55b19ea536466d6ea2602cfecea40a9\",\n",
    "    input={\n",
    "        \"width\": 512,\n",
    "        \"height\": 512,\n",
    "        \"prompt\": prompt_5,\n",
    "        \"scheduler\": \"p_sampler\",\n",
    "        \"batch_size\": 1,\n",
    "        \"prior_steps\": \"5\",\n",
    "        \"output_format\": \"webp\",\n",
    "        \"guidance_scale\": 4,\n",
    "        \"output_quality\": 80,\n",
    "        \"prior_cf_scale\": 4,\n",
    "        \"num_inference_steps\": 100\n",
    "    }\n",
    ")\n",
    "print(output)"
   ]
  },
  {
   "cell_type": "markdown",
   "id": "424f8e96-d11d-43f2-bbba-c86e975a1af8",
   "metadata": {},
   "source": [
    "# stability-ai/stable-diffusion-3\n",
    "\n",
    "https://replicate.com/stability-ai/stable-diffusion-3\n",
    "\n",
    "0.035 / image\r\n",
    "or\r\n",
    "28 images / $1"
   ]
  },
  {
   "cell_type": "code",
   "execution_count": 5,
   "id": "8c8aed56-0f03-44ec-a3e0-598b6aea8ecc",
   "metadata": {},
   "outputs": [
    {
     "name": "stdout",
     "output_type": "stream",
     "text": [
      "['https://replicate.delivery/yhqm/oZjieB2ZrU2yWqpveJED4fX62SsiyWLkNRwRTfe9E76WVeG6E/R8_SD3_00001_.webp']\n"
     ]
    }
   ],
   "source": [
    "output = replicate.run(\n",
    "    \"stability-ai/stable-diffusion-3\",\n",
    "    input={\n",
    "        \"cfg\": 3.5,\n",
    "        \"steps\": 28,\n",
    "        \"prompt\": prompt_1,\n",
    "        \"aspect_ratio\": \"3:2\",\n",
    "        \"output_format\": \"webp\",\n",
    "        \"output_quality\": 90,\n",
    "        \"negative_prompt\": \"\",\n",
    "        \"prompt_strength\": 0.85\n",
    "    }\n",
    ")\n",
    "print(output)"
   ]
  },
  {
   "cell_type": "code",
   "execution_count": 6,
   "id": "9ec6a213-f400-4d02-9f13-a2e539200729",
   "metadata": {},
   "outputs": [
    {
     "name": "stdout",
     "output_type": "stream",
     "text": [
      "['https://replicate.delivery/yhqm/IwdcrN4MdXJnNlL7e7v5JuAmYCp1zQuE2f0BV3JTXuA6yboTA/R8_SD3_00001_.webp']\n"
     ]
    }
   ],
   "source": [
    "output = replicate.run(\n",
    "    \"stability-ai/stable-diffusion-3\",\n",
    "    input={\n",
    "        \"cfg\": 3.5,\n",
    "        \"steps\": 28,\n",
    "        \"prompt\": prompt_2,\n",
    "        \"aspect_ratio\": \"3:2\",\n",
    "        \"output_format\": \"webp\",\n",
    "        \"output_quality\": 90,\n",
    "        \"negative_prompt\": \"\",\n",
    "        \"prompt_strength\": 0.85\n",
    "    }\n",
    ")\n",
    "print(output)"
   ]
  },
  {
   "cell_type": "code",
   "execution_count": 7,
   "id": "616091ee-5227-47dd-aeb1-2c7164d3aec0",
   "metadata": {},
   "outputs": [
    {
     "name": "stdout",
     "output_type": "stream",
     "text": [
      "['https://replicate.delivery/yhqm/yobqdd2T9e3WeEAH5yg7KDvVs3G4dFN7eSHzvBnOi8kAm3QnA/R8_SD3_00001_.webp']\n"
     ]
    }
   ],
   "source": [
    "output = replicate.run(\n",
    "    \"stability-ai/stable-diffusion-3\",\n",
    "    input={\n",
    "        \"cfg\": 3.5,\n",
    "        \"steps\": 28,\n",
    "        \"prompt\": prompt_3,\n",
    "        \"aspect_ratio\": \"3:2\",\n",
    "        \"output_format\": \"webp\",\n",
    "        \"output_quality\": 90,\n",
    "        \"negative_prompt\": \"\",\n",
    "        \"prompt_strength\": 0.85\n",
    "    }\n",
    ")\n",
    "print(output)"
   ]
  },
  {
   "cell_type": "code",
   "execution_count": 8,
   "id": "b90711b0-95cb-4dbe-a756-0db076edbd19",
   "metadata": {},
   "outputs": [
    {
     "name": "stdout",
     "output_type": "stream",
     "text": [
      "['https://replicate.delivery/yhqm/HYhVfu3iE3xKVi6jPmeFKWSr27N0GC9lfPZosWgmSA3Im3QnA/R8_SD3_00001_.webp']\n"
     ]
    }
   ],
   "source": [
    "output = replicate.run(\n",
    "    \"stability-ai/stable-diffusion-3\",\n",
    "    input={\n",
    "        \"cfg\": 3.5,\n",
    "        \"steps\": 28,\n",
    "        \"prompt\": prompt_4,\n",
    "        \"aspect_ratio\": \"3:2\",\n",
    "        \"output_format\": \"webp\",\n",
    "        \"output_quality\": 90,\n",
    "        \"negative_prompt\": \"\",\n",
    "        \"prompt_strength\": 0.85\n",
    "    }\n",
    ")\n",
    "print(output)"
   ]
  },
  {
   "cell_type": "code",
   "execution_count": 9,
   "id": "80802879-6d2d-48bb-870d-8fee38d25268",
   "metadata": {},
   "outputs": [
    {
     "name": "stdout",
     "output_type": "stream",
     "text": [
      "['https://replicate.delivery/yhqm/yEeqN7UZpGwHc6EBxgShbpM4WQwLuz4G1ZcP5iAVfh5KzboTA/R8_SD3_00001_.webp']\n"
     ]
    }
   ],
   "source": [
    "output = replicate.run(\n",
    "    \"stability-ai/stable-diffusion-3\",\n",
    "    input={\n",
    "        \"cfg\": 3.5,\n",
    "        \"steps\": 28,\n",
    "        \"prompt\": prompt_5,\n",
    "        \"aspect_ratio\": \"3:2\",\n",
    "        \"output_format\": \"webp\",\n",
    "        \"output_quality\": 90,\n",
    "        \"negative_prompt\": \"\",\n",
    "        \"prompt_strength\": 0.85\n",
    "    }\n",
    ")\n",
    "print(output)"
   ]
  },
  {
   "cell_type": "code",
   "execution_count": null,
   "id": "3efa7df5-abb2-4994-895b-fe71dd2d06ed",
   "metadata": {},
   "outputs": [],
   "source": []
  }
 ],
 "metadata": {
  "kernelspec": {
   "display_name": "Python 3 (ipykernel)",
   "language": "python",
   "name": "python3"
  },
  "language_info": {
   "codemirror_mode": {
    "name": "ipython",
    "version": 3
   },
   "file_extension": ".py",
   "mimetype": "text/x-python",
   "name": "python",
   "nbconvert_exporter": "python",
   "pygments_lexer": "ipython3",
   "version": "3.11.7"
  }
 },
 "nbformat": 4,
 "nbformat_minor": 5
}
